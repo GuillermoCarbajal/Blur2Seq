{
  "cells": [
    {
      "cell_type": "markdown",
      "metadata": {
        "colab_type": "text",
        "id": "view-in-github"
      },
      "source": [
        "<a href=\"https://colab.research.google.com/github/GuillermoCarbajal/Blur2Seq/blob/master/Blur2Seq_demo.ipynb\" target=\"_parent\"><img src=\"https://colab.research.google.com/assets/colab-badge.svg\" alt=\"Open In Colab\"/></a>"
      ]
    },
    {
      "cell_type": "markdown",
      "metadata": {
        "ExecuteTime": {
          "end_time": "2023-01-16T18:24:16.316501Z",
          "start_time": "2023-01-16T18:24:16.313009Z"
        },
        "id": "UeuyqEHv3neb"
      },
      "source": [
        "# Blur2Seq demo"
      ]
    },
    {
      "cell_type": "markdown",
      "metadata": {
        "ExecuteTime": {
          "end_time": "2023-01-16T18:29:06.215255Z",
          "start_time": "2023-01-16T18:29:06.208625Z"
        },
        "id": "aIo6nhrs3nei"
      },
      "source": [
        "## Clone the repo"
      ]
    },
    {
      "cell_type": "code",
      "execution_count": null,
      "metadata": {
        "ExecuteTime": {
          "end_time": "2023-10-06T14:47:52.370313Z",
          "start_time": "2023-10-06T14:47:48.375261Z"
        },
        "colab": {
          "base_uri": "https://localhost:8080/"
        },
        "id": "oK1DpfPS3nek",
        "outputId": "d9944af2-27d0-4b63-ab79-b88511815f1a"
      },
      "outputs": [],
      "source": [
        "!git clone https://github.com/GuillermoCarbajal/Blur2Seq.git\n",
        "%cd Blur2Seq"
      ]
    },
    {
      "cell_type": "markdown",
      "metadata": {
        "id": "sL1mSTwX3nen"
      },
      "source": [
        "## Setup the environment"
      ]
    },
    {
      "cell_type": "code",
      "execution_count": null,
      "metadata": {
        "ExecuteTime": {
          "end_time": "2023-10-06T14:56:09.395055Z",
          "start_time": "2023-10-06T14:56:08.333464Z"
        },
        "colab": {
          "base_uri": "https://localhost:8080/"
        },
        "id": "jkXOSc4C3neo",
        "outputId": "9e529fba-a282-4384-96ec-c5e357ebb5ca"
      },
      "outputs": [],
      "source": [
        "!pip install -r 'requirements.txt'"
      ]
    },
    {
      "cell_type": "markdown",
      "metadata": {
        "id": "FUZSEIxYiywI"
      },
      "source": [
        "## Download pretrained models"
      ]
    },
    {
      "cell_type": "code",
      "execution_count": null,
      "metadata": {
        "ExecuteTime": {
          "end_time": "2023-10-06T14:52:42.506199Z",
          "start_time": "2023-10-06T14:52:42.491473Z"
        },
        "colab": {
          "base_uri": "https://localhost:8080/",
          "height": 211
        },
        "id": "DiElLLM2HS4D",
        "outputId": "a3a88c0b-fe10-4c90-b10f-30d21ac59abd"
      },
      "outputs": [],
      "source": [
        "import gdown\n",
        "gdown.download('http://iie.fing.edu.uy/~carbajal/J-MTPD/camera_shake_epoch25_epoch35_epoch50_epoch10_epoch5_epoch25_epoch25_epoch25_epoch27_epoch24_epoch4_epoch10_epoch22_epoch23_epoch90.pkl', \"./pretrained_models/\", quiet=False)\n",
        "gdown.download('http://iie.fing.edu.uy/~carbajal/J-MTPD/camera_shake_epoch25_epoch35_epoch50_epoch10_epoch5_epoch25_epoch25_epoch25_epoch27_epoch24_epoch4_epoch10_epoch22_epoch23_epoch90_G.pkl', \"./pretrained_models/\", quiet=False)"
      ]
    },
    {
      "cell_type": "code",
      "execution_count": null,
      "metadata": {
        "id": "LJ46_zyoO2pW"
      },
      "outputs": [],
      "source": []
    },
    {
      "cell_type": "code",
      "execution_count": null,
      "metadata": {
        "id": "RhLav75OMNJW"
      },
      "outputs": [],
      "source": [
        "import torch\n",
        "from skimage.io import imread, imsave\n",
        "from skimage import img_as_ubyte\n",
        "import os\n",
        "from models.CameraShakeModelTwoBranches import CameraShakeModelTwoBranches as CameraShakeModel\n",
        "from models.network_nimbusr_offsets import NIMBUSR_Offsets as net_nimbusr_offsets\n",
        "from torchvision import transforms\n",
        "import numpy as np\n",
        "from torchvision.utils import make_grid\n",
        "from utils.homographies import compute_intrinsics, get_offsets_from_positions, generate_video, show_kernels_from_offsets_on_blurry_image\n",
        "from utils.visualization import save_image, tensor2im, show_positions_found, sort_positions\n",
        "from matplotlib import pyplot  as plt\n",
        "from skimage.color import gray2rgb\n",
        "from skimage.transform import resize"
      ]
    },
    {
      "cell_type": "markdown",
      "metadata": {
        "id": "KkoenR76DU9-"
      },
      "source": [
        "## Trajectory Computation"
      ]
    },
    {
      "cell_type": "code",
      "execution_count": null,
      "metadata": {
        "ExecuteTime": {
          "end_time": "2023-01-22T19:28:41.067494Z",
          "start_time": "2023-01-22T19:28:41.008424Z"
        },
        "colab": {
          "base_uri": "https://localhost:8080/"
        },
        "id": "JpDopxdPDP4s",
        "outputId": "39de9e54-0a54-403d-87b4-74e1970172ce"
      },
      "outputs": [],
      "source": [
        "#input_image = 'testing_imgs/0316.png'\n",
        "input_image ='testing_imgs/Blurry2_1.png'\n",
        "camera_model_file = 'pretrained_models/camera_shake_epoch25_epoch35_epoch50_epoch10_epoch5_epoch25_epoch25_epoch25_epoch27_epoch24_epoch4_epoch10_epoch22_epoch23_epoch90.pkl'\n",
        "\n",
        "K=25\n",
        "camera_model = CameraShakeModel(K).cuda()\n",
        "camera_model.load_state_dict( torch.load(camera_model_file), strict=False)\n",
        "camera_model.eval()"
      ]
    },
    {
      "cell_type": "code",
      "execution_count": null,
      "metadata": {
        "id": "KZ-apJxWL6Zu"
      },
      "outputs": [],
      "source": [
        "def compute_trajectory(input_file, reblur_model, output_dir='testing_results', focal_length=-1,\n",
        "                       gamma_factor=1.0, save_video=False):\n",
        "\n",
        "  n_positions= 25 # number of positions estimated by the network\n",
        "  if not os.path.exists(output_dir):\n",
        "      os.makedirs(output_dir)\n",
        "\n",
        "  img_name = input_file.split('/')[-1]\n",
        "  img_name, ext = img_name.split('.')\n",
        "\n",
        "  print('loading image ',input_file)\n",
        "  blurry_image = imread(input_file)/255.0\n",
        "\n",
        "  # Blurry image is transformed to pytorch format\n",
        "  blurry_tensor = torch.from_numpy(blurry_image).permute(2,0,1)[None].cuda().float()\n",
        "\n",
        "  _, C,H,W = blurry_tensor.shape\n",
        "\n",
        "  # Kernels and masks are estimated\n",
        "  blurry_tensor_to_compute_kernels = blurry_tensor**gamma_factor - 0.5\n",
        "\n",
        "\n",
        "  if focal_length > 0:\n",
        "      f = torch.Tensor([focal_length]).to(blurry_tensor.device)\n",
        "      #f = torch.Tensor([float(max(H,W))]).to(tensor_img.device)\n",
        "      intrinsics = torch.Tensor([[f, 0, W/2],[0, f, H/2], [0, 0, 1] ]).cuda(blurry_tensor.device)\n",
        "      intrinsics = intrinsics[None,:,:]\n",
        "  else:\n",
        "      intrinsics = compute_intrinsics(W,H).cuda(blurry_tensor.device)[None]\n",
        "      f =  torch.Tensor([max(H,W)]).to(blurry_tensor.device)\n",
        "\n",
        "      #focal_channel = f/maximo * torch.ones(N,1,H,W).to(tensor_img.device)\n",
        "      #cam_input = torch.concat((focal_channel, tensor_img), dim=1)\n",
        "\n",
        "  # get positions\n",
        "  with torch.no_grad():\n",
        "      camera_positions = reblur_model(blurry_tensor_to_compute_kernels,f)\n",
        "\n",
        "  order = sort_positions(camera_positions[0])\n",
        "  camera_positions[0] = camera_positions[0,order,:]\n",
        "\n",
        "  offsets = get_offsets_from_positions(blurry_tensor.shape, camera_positions, intrinsics)\n",
        "  offsets = offsets.reshape(1,2*n_positions, H,W)\n",
        "  offsets_BT=None\n",
        "\n",
        "\n",
        "\n",
        "  found_positions_np = camera_positions[0].detach().cpu().numpy()\n",
        "  np.savetxt(os.path.join(output_dir,f'{img_name}_found_positions.txt'), found_positions_np)\n",
        "  pose = np.zeros((found_positions_np.shape[0], 6))\n",
        "  pose[:, 3:] = found_positions_np\n",
        "\n",
        "  #K, _ = generarK((H,W,C), pose, A=intrinsics[0].detach().cpu().numpy())\n",
        "  kernels_file = os.path.join(output_dir, img_name + '_kernels_found.png' )\n",
        "  #kernels_estimated = mostrar_kernels(K, (H,W,C), output_name = kernels_file)\n",
        "\n",
        "\n",
        "  show_kernels_from_offsets_on_blurry_image(blurry_tensor[0],offsets[0].reshape(n_positions,2,H,W), kernels_file)\n",
        "  print('Kernels saved in ',os.path.join(output_dir, img_name + '_kernels.png') )\n",
        "\n"
      ]
    },
    {
      "cell_type": "code",
      "execution_count": null,
      "metadata": {
        "colab": {
          "base_uri": "https://localhost:8080/"
        },
        "id": "tLTU_G1tLb-X",
        "outputId": "042575d2-40fc-4e8e-c134-b5f642e24431"
      },
      "outputs": [],
      "source": [
        "compute_trajectory(input_image, camera_model)"
      ]
    },
    {
      "cell_type": "markdown",
      "metadata": {
        "id": "ZPel3cx0d6oU"
      },
      "source": [
        "## Image Deblurring"
      ]
    },
    {
      "cell_type": "code",
      "execution_count": null,
      "metadata": {
        "ExecuteTime": {
          "end_time": "2023-01-22T19:35:21.360409Z",
          "start_time": "2023-01-22T19:35:21.340336Z"
        },
        "id": "a-ngjPshgDXy"
      },
      "outputs": [],
      "source": [
        "#from models.network_nimbusr_pmbm import NIMBUSR_PMBM as net\n",
        "from models.network_nimbusr_offsets import NIMBUSR_Offsets as net_nimbusr_offsets"
      ]
    },
    {
      "cell_type": "code",
      "execution_count": null,
      "metadata": {
        "id": "2pEBZZENfmfb"
      },
      "outputs": [],
      "source": [
        "def load_nimbusr_net(restoration_network_file, type='offsets'):\n",
        "    opt_net = { \"n_iter\": 8\n",
        "        , \"h_nc\": 64\n",
        "        , \"in_nc\": 4 #2 if args.gray else 4 #4\n",
        "        , \"out_nc\":3 #1 if args.gray else 3 #3\n",
        "        #, \"ksize\": 25\n",
        "        , \"nc\": [64, 128, 256, 512]\n",
        "        , \"nb\": 2\n",
        "        , \"gc\": 32\n",
        "        , \"ng\": 2\n",
        "        , \"reduction\" : 16\n",
        "        , \"act_mode\": \"R\"\n",
        "        , \"upsample_mode\": \"convtranspose\"\n",
        "        , \"downsample_mode\": \"strideconv\"}\n",
        "\n",
        "\n",
        "    if type=='pmbm':\n",
        "        netG = net(n_iter=opt_net['n_iter'],\n",
        "                    h_nc=opt_net['h_nc'],\n",
        "                    in_nc=opt_net['in_nc'],\n",
        "                    out_nc=opt_net['out_nc'],\n",
        "                    nc=opt_net['nc'],\n",
        "                    nb=opt_net['nb'],\n",
        "                    act_mode=opt_net['act_mode'],\n",
        "                    downsample_mode=opt_net['downsample_mode'],\n",
        "                    upsample_mode=opt_net['upsample_mode']\n",
        "                    )\n",
        "    elif type=='offsets':\n",
        "        netG = net_nimbusr_offsets(n_iter=opt_net['n_iter'],\n",
        "            h_nc=opt_net['h_nc'],\n",
        "            in_nc=opt_net['in_nc'],\n",
        "            out_nc=opt_net['out_nc'],\n",
        "            nc=opt_net['nc'],\n",
        "            nb=opt_net['nb'],\n",
        "            act_mode=opt_net['act_mode'],\n",
        "            downsample_mode=opt_net['downsample_mode'],\n",
        "            upsample_mode=opt_net['upsample_mode']\n",
        "            )\n",
        "\n",
        "    if os.path.exists(restoration_network_file):\n",
        "        print('Loading model for G [{:s}] ...'.format(restoration_network_file))\n",
        "        netG.load_state_dict(torch.load(restoration_network_file))\n",
        "    else:\n",
        "        print('Model does not exists')\n",
        "\n",
        "    netG = netG.to('cuda')\n",
        "\n",
        "    return netG\n"
      ]
    },
    {
      "cell_type": "code",
      "execution_count": null,
      "metadata": {
        "id": "eM_qzywkgOpy"
      },
      "outputs": [],
      "source": [
        "def restore_images(input_file, reblur_model, net_G, output_folder='testing_results', gamma_factor=1.0,\n",
        "                   resize_factor=1, network_type='nimbusr_sat', focal_length=-1, save_video=False):\n",
        "\n",
        "  n_positions= 25 # number of positions estimated by the network\n",
        "  if not os.path.exists(output_folder):\n",
        "      os.makedirs(output_folder)\n",
        "\n",
        "  img_name = input_file.split('/')[-1]\n",
        "  img_name, ext = img_name.split('.')\n",
        "\n",
        "  print('loading image ',input_file)\n",
        "  blurry_image = imread(input_file)/255.0\n",
        "\n",
        "  blurry_tensor = torch.from_numpy(blurry_image).permute(2,0,1)[None].cuda().float()\n",
        "  print(blurry_tensor.min(),blurry_tensor.max())\n",
        "  _, C,H,W = blurry_tensor.shape\n",
        "\n",
        "  # Kernels and masks are estimated\n",
        "  blurry_tensor_to_compute_kernels = blurry_tensor**gamma_factor - 0.5\n",
        "\n",
        "\n",
        "  if focal_length > 0:\n",
        "      f = torch.Tensor([focal_length]).to(blurry_tensor.device)\n",
        "      #f = torch.Tensor([float(max(H,W))]).to(tensor_img.device)\n",
        "      intrinsics = torch.Tensor([[f, 0, W/2],[0, f, H/2], [0, 0, 1] ]).cuda(blurry_tensor.device)\n",
        "      intrinsics = intrinsics[None,:,:]\n",
        "  else:\n",
        "      intrinsics = compute_intrinsics(W,H).cuda(blurry_tensor.device)[None]\n",
        "      f =  torch.Tensor([max(H,W)]).to(blurry_tensor.device)\n",
        "\n",
        "      #focal_channel = f/maximo * torch.ones(N,1,H,W).to(tensor_img.device)\n",
        "      #cam_input = torch.concat((focal_channel, tensor_img), dim=1)\n",
        "\n",
        "  # get positions\n",
        "  with torch.no_grad():\n",
        "      camera_positions = reblur_model(blurry_tensor_to_compute_kernels,f)\n",
        "\n",
        "  order = sort_positions(camera_positions[0])\n",
        "  camera_positions[0] = camera_positions[0,order,:]\n",
        "\n",
        "  offsets = get_offsets_from_positions(blurry_tensor.shape, camera_positions, intrinsics)\n",
        "  offsets = offsets.reshape(1,2*n_positions, H,W)\n",
        "  offsets_BT=None\n",
        "\n",
        "  print(offsets.min(),offsets.max())\n",
        "\n",
        "\n",
        "  net_G.eval()\n",
        "  noise_level = 0.01\n",
        "  noise_level = torch.FloatTensor([noise_level]).view(1,1,1).cuda(blurry_tensor.device)\n",
        "\n",
        "  print('input_shape', blurry_tensor.shape, offsets.shape)\n",
        "  with torch.no_grad():\n",
        "      output = net_G(blurry_tensor, offsets, 1, sigma=noise_level[None,:], offsets_BT=offsets_BT)\n",
        "\n",
        "\n",
        "  output_img = tensor2im(torch.clamp(output[0].detach(),0,1) - 0.5)\n",
        "  save_image(output_img, os.path.join(output_folder, img_name + '_PMBM.png' ))\n",
        "\n",
        "  found_positions_np = camera_positions[0].detach().cpu().numpy()\n",
        "  np.savetxt(os.path.join(output_folder,f'{img_name}_found_positions.txt'), found_positions_np)\n",
        "  pose = np.zeros((found_positions_np.shape[0], 6))\n",
        "  pose[:, 3:] = found_positions_np\n",
        "\n",
        "  #K, _ = generarK((H,W,C), pose, A=intrinsics[0].detach().cpu().numpy())\n",
        "  kernels_file = os.path.join(output_folder, img_name + '_kernels_found.png' )\n",
        "  #kernels_estimated = mostrar_kernels(K, (H,W,C), output_name = kernels_file)\n",
        "\n",
        "\n",
        "  show_kernels_from_offsets_on_blurry_image(blurry_tensor[0],offsets[0].reshape(n_positions,2,H,W), kernels_file)\n",
        "  print('Kernels saved in ',os.path.join(output_folder, img_name + '_kernels.png') )\n",
        "\n",
        "  save_image((255*blurry_image).astype(np.uint8), os.path.join(output_folder, img_name + '.png' ))\n",
        "  print('Output saved in ', os.path.join(output_folder, img_name + '_J-MTPD.png' ))\n",
        "\n",
        "  frames, reblurred = generate_video(output, camera_positions, intrinsics[0])\n",
        "  print(reblurred.shape)\n",
        "  reblurred = tensor2im(torch.clamp(reblurred[0].detach(),0,1) - 0.5)\n",
        "  save_image(reblurred, os.path.join(output_folder, img_name + '_reblurred.png' ))\n",
        "\n",
        "  show_positions_found(found_positions_np, intrinsics[0,0,0].detach().cpu().numpy(), os.path.join(output_folder, img_name + '_positions_found.png'))\n",
        "\n",
        "  if save_video:\n",
        "      #imgs=[];\n",
        "      output_video = os.path.join(output_folder, img_name + '.avi')\n",
        "      save_video(frames, output_video)\n",
        "      print('Video saved in ', output_video)\n"
      ]
    },
    {
      "cell_type": "code",
      "execution_count": null,
      "metadata": {
        "colab": {
          "base_uri": "https://localhost:8080/"
        },
        "id": "4LdoyZuYlmIk",
        "outputId": "212e705c-a6bb-44f0-b4ab-9a900be698af"
      },
      "outputs": [],
      "source": [
        "input_image = 'testing_imgs/0316.png'\n",
        "input_image = 'testing_imgs/Blurry2_1.png'\n",
        "restoration_model='pretrained_models/camera_shake_epoch25_epoch35_epoch50_epoch10_epoch5_epoch25_epoch25_epoch25_epoch27_epoch24_epoch4_epoch10_epoch22_epoch23_epoch90_G.pkl'\n",
        "\n",
        "netG = load_nimbusr_net(restoration_model, 'offsets')"
      ]
    },
    {
      "cell_type": "code",
      "execution_count": null,
      "metadata": {
        "colab": {
          "base_uri": "https://localhost:8080/",
          "height": 480
        },
        "id": "zZDznYn4g_bN",
        "outputId": "437cd8cc-69de-4a15-91dc-4e9ba12bfae0"
      },
      "outputs": [],
      "source": [
        "restore_images(input_image, camera_model, netG)"
      ]
    },
    {
      "cell_type": "markdown",
      "metadata": {
        "id": "XDfnchPfmsA8"
      },
      "source": [
        "## Try with your own images"
      ]
    },
    {
      "cell_type": "code",
      "execution_count": null,
      "metadata": {
        "id": "vSntM3PGJj8a"
      },
      "outputs": [],
      "source": [
        "from google.colab import files\n",
        "import shutil\n",
        "\n",
        "upload_folder = 'upload/input'\n",
        "result_folder = 'upload/output'\n",
        "\n",
        "if os.path.isdir(upload_folder):\n",
        "    shutil.rmtree(upload_folder)\n",
        "if os.path.isdir(result_folder):\n",
        "    shutil.rmtree(result_folder)\n",
        "os.makedirs(upload_folder)\n",
        "os.makedirs(result_folder)\n",
        "\n",
        "# upload images\n",
        "uploaded = files.upload()\n",
        "for filename in uploaded.keys():\n",
        "  dst_path = os.path.join(upload_folder, filename)\n",
        "  print(f'move {filename} to {dst_path}')\n",
        "  shutil.move(filename, dst_path)"
      ]
    },
    {
      "cell_type": "code",
      "execution_count": null,
      "metadata": {
        "id": "ZvTFR-LKj9_6"
      },
      "outputs": [],
      "source": [
        "import glob\n",
        "input_list = sorted(glob.glob(os.path.join(upload_folder, '*')))\n",
        "for input_path in input_list:\n",
        "  img_input = imread(input_path)\n",
        "  restore_images(input_path, camera_model)"
      ]
    },
    {
      "cell_type": "code",
      "execution_count": null,
      "metadata": {
        "id": "78463DljnnCP"
      },
      "outputs": [],
      "source": []
    }
  ],
  "metadata": {
    "accelerator": "GPU",
    "colab": {
      "include_colab_link": true,
      "provenance": []
    },
    "gpuClass": "standard",
    "kernelspec": {
      "display_name": "Blur2Seq",
      "language": "python",
      "name": "python3"
    },
    "language_info": {
      "codemirror_mode": {
        "name": "ipython",
        "version": 3
      },
      "file_extension": ".py",
      "mimetype": "text/x-python",
      "name": "python",
      "nbconvert_exporter": "python",
      "pygments_lexer": "ipython3",
      "version": "3.12.11"
    },
    "varInspector": {
      "cols": {
        "lenName": 16,
        "lenType": 16,
        "lenVar": 40
      },
      "kernels_config": {
        "python": {
          "delete_cmd_postfix": "",
          "delete_cmd_prefix": "del ",
          "library": "var_list.py",
          "varRefreshCmd": "print(var_dic_list())"
        },
        "r": {
          "delete_cmd_postfix": ") ",
          "delete_cmd_prefix": "rm(",
          "library": "var_list.r",
          "varRefreshCmd": "cat(var_dic_list()) "
        }
      },
      "types_to_exclude": [
        "module",
        "function",
        "builtin_function_or_method",
        "instance",
        "_Feature"
      ],
      "window_display": false
    }
  },
  "nbformat": 4,
  "nbformat_minor": 0
}
